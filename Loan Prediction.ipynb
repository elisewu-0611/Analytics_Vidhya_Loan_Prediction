{
 "cells": [
  {
   "cell_type": "code",
   "execution_count": 1,
   "metadata": {},
   "outputs": [],
   "source": [
    "import pandas as pd\n",
    "import matplotlib.pyplot as mp\n",
    "import seaborn as sns\n",
    "import numpy as np\n",
    "from scipy.stats import norm, skew\n",
    "\n",
    "pd.set_option('display.max_columns', None)"
   ]
  },
  {
   "cell_type": "markdown",
   "metadata": {},
   "source": [
    "### 查看數據"
   ]
  },
  {
   "cell_type": "code",
   "execution_count": 2,
   "metadata": {},
   "outputs": [
    {
     "name": "stdout",
     "output_type": "stream",
     "text": [
      "(614, 13)\n"
     ]
    },
    {
     "data": {
      "text/html": [
       "<div>\n",
       "<style scoped>\n",
       "    .dataframe tbody tr th:only-of-type {\n",
       "        vertical-align: middle;\n",
       "    }\n",
       "\n",
       "    .dataframe tbody tr th {\n",
       "        vertical-align: top;\n",
       "    }\n",
       "\n",
       "    .dataframe thead th {\n",
       "        text-align: right;\n",
       "    }\n",
       "</style>\n",
       "<table border=\"1\" class=\"dataframe\">\n",
       "  <thead>\n",
       "    <tr style=\"text-align: right;\">\n",
       "      <th></th>\n",
       "      <th>Loan_ID</th>\n",
       "      <th>Gender</th>\n",
       "      <th>Married</th>\n",
       "      <th>Dependents</th>\n",
       "      <th>Education</th>\n",
       "      <th>Self_Employed</th>\n",
       "      <th>ApplicantIncome</th>\n",
       "      <th>CoapplicantIncome</th>\n",
       "      <th>LoanAmount</th>\n",
       "      <th>Loan_Amount_Term</th>\n",
       "      <th>Credit_History</th>\n",
       "      <th>Property_Area</th>\n",
       "      <th>Loan_Status</th>\n",
       "    </tr>\n",
       "  </thead>\n",
       "  <tbody>\n",
       "    <tr>\n",
       "      <th>0</th>\n",
       "      <td>LP001002</td>\n",
       "      <td>Male</td>\n",
       "      <td>No</td>\n",
       "      <td>0</td>\n",
       "      <td>Graduate</td>\n",
       "      <td>No</td>\n",
       "      <td>5849</td>\n",
       "      <td>0.0</td>\n",
       "      <td>NaN</td>\n",
       "      <td>360.0</td>\n",
       "      <td>1.0</td>\n",
       "      <td>Urban</td>\n",
       "      <td>Y</td>\n",
       "    </tr>\n",
       "    <tr>\n",
       "      <th>1</th>\n",
       "      <td>LP001003</td>\n",
       "      <td>Male</td>\n",
       "      <td>Yes</td>\n",
       "      <td>1</td>\n",
       "      <td>Graduate</td>\n",
       "      <td>No</td>\n",
       "      <td>4583</td>\n",
       "      <td>1508.0</td>\n",
       "      <td>128.0</td>\n",
       "      <td>360.0</td>\n",
       "      <td>1.0</td>\n",
       "      <td>Rural</td>\n",
       "      <td>N</td>\n",
       "    </tr>\n",
       "    <tr>\n",
       "      <th>2</th>\n",
       "      <td>LP001005</td>\n",
       "      <td>Male</td>\n",
       "      <td>Yes</td>\n",
       "      <td>0</td>\n",
       "      <td>Graduate</td>\n",
       "      <td>Yes</td>\n",
       "      <td>3000</td>\n",
       "      <td>0.0</td>\n",
       "      <td>66.0</td>\n",
       "      <td>360.0</td>\n",
       "      <td>1.0</td>\n",
       "      <td>Urban</td>\n",
       "      <td>Y</td>\n",
       "    </tr>\n",
       "    <tr>\n",
       "      <th>3</th>\n",
       "      <td>LP001006</td>\n",
       "      <td>Male</td>\n",
       "      <td>Yes</td>\n",
       "      <td>0</td>\n",
       "      <td>Not Graduate</td>\n",
       "      <td>No</td>\n",
       "      <td>2583</td>\n",
       "      <td>2358.0</td>\n",
       "      <td>120.0</td>\n",
       "      <td>360.0</td>\n",
       "      <td>1.0</td>\n",
       "      <td>Urban</td>\n",
       "      <td>Y</td>\n",
       "    </tr>\n",
       "    <tr>\n",
       "      <th>4</th>\n",
       "      <td>LP001008</td>\n",
       "      <td>Male</td>\n",
       "      <td>No</td>\n",
       "      <td>0</td>\n",
       "      <td>Graduate</td>\n",
       "      <td>No</td>\n",
       "      <td>6000</td>\n",
       "      <td>0.0</td>\n",
       "      <td>141.0</td>\n",
       "      <td>360.0</td>\n",
       "      <td>1.0</td>\n",
       "      <td>Urban</td>\n",
       "      <td>Y</td>\n",
       "    </tr>\n",
       "  </tbody>\n",
       "</table>\n",
       "</div>"
      ],
      "text/plain": [
       "    Loan_ID Gender Married Dependents     Education Self_Employed  \\\n",
       "0  LP001002   Male      No          0      Graduate            No   \n",
       "1  LP001003   Male     Yes          1      Graduate            No   \n",
       "2  LP001005   Male     Yes          0      Graduate           Yes   \n",
       "3  LP001006   Male     Yes          0  Not Graduate            No   \n",
       "4  LP001008   Male      No          0      Graduate            No   \n",
       "\n",
       "   ApplicantIncome  CoapplicantIncome  LoanAmount  Loan_Amount_Term  \\\n",
       "0             5849                0.0         NaN             360.0   \n",
       "1             4583             1508.0       128.0             360.0   \n",
       "2             3000                0.0        66.0             360.0   \n",
       "3             2583             2358.0       120.0             360.0   \n",
       "4             6000                0.0       141.0             360.0   \n",
       "\n",
       "   Credit_History Property_Area Loan_Status  \n",
       "0             1.0         Urban           Y  \n",
       "1             1.0         Rural           N  \n",
       "2             1.0         Urban           Y  \n",
       "3             1.0         Urban           Y  \n",
       "4             1.0         Urban           Y  "
      ]
     },
     "execution_count": 2,
     "metadata": {},
     "output_type": "execute_result"
    }
   ],
   "source": [
    "train = pd.read_csv('train.csv')\n",
    "print(train.shape)\n",
    "train.head()"
   ]
  },
  {
   "cell_type": "code",
   "execution_count": 3,
   "metadata": {},
   "outputs": [
    {
     "name": "stdout",
     "output_type": "stream",
     "text": [
      "(367, 12)\n"
     ]
    },
    {
     "data": {
      "text/html": [
       "<div>\n",
       "<style scoped>\n",
       "    .dataframe tbody tr th:only-of-type {\n",
       "        vertical-align: middle;\n",
       "    }\n",
       "\n",
       "    .dataframe tbody tr th {\n",
       "        vertical-align: top;\n",
       "    }\n",
       "\n",
       "    .dataframe thead th {\n",
       "        text-align: right;\n",
       "    }\n",
       "</style>\n",
       "<table border=\"1\" class=\"dataframe\">\n",
       "  <thead>\n",
       "    <tr style=\"text-align: right;\">\n",
       "      <th></th>\n",
       "      <th>Loan_ID</th>\n",
       "      <th>Gender</th>\n",
       "      <th>Married</th>\n",
       "      <th>Dependents</th>\n",
       "      <th>Education</th>\n",
       "      <th>Self_Employed</th>\n",
       "      <th>ApplicantIncome</th>\n",
       "      <th>CoapplicantIncome</th>\n",
       "      <th>LoanAmount</th>\n",
       "      <th>Loan_Amount_Term</th>\n",
       "      <th>Credit_History</th>\n",
       "      <th>Property_Area</th>\n",
       "    </tr>\n",
       "  </thead>\n",
       "  <tbody>\n",
       "    <tr>\n",
       "      <th>0</th>\n",
       "      <td>LP001015</td>\n",
       "      <td>Male</td>\n",
       "      <td>Yes</td>\n",
       "      <td>0</td>\n",
       "      <td>Graduate</td>\n",
       "      <td>No</td>\n",
       "      <td>5720</td>\n",
       "      <td>0</td>\n",
       "      <td>110.0</td>\n",
       "      <td>360.0</td>\n",
       "      <td>1.0</td>\n",
       "      <td>Urban</td>\n",
       "    </tr>\n",
       "    <tr>\n",
       "      <th>1</th>\n",
       "      <td>LP001022</td>\n",
       "      <td>Male</td>\n",
       "      <td>Yes</td>\n",
       "      <td>1</td>\n",
       "      <td>Graduate</td>\n",
       "      <td>No</td>\n",
       "      <td>3076</td>\n",
       "      <td>1500</td>\n",
       "      <td>126.0</td>\n",
       "      <td>360.0</td>\n",
       "      <td>1.0</td>\n",
       "      <td>Urban</td>\n",
       "    </tr>\n",
       "    <tr>\n",
       "      <th>2</th>\n",
       "      <td>LP001031</td>\n",
       "      <td>Male</td>\n",
       "      <td>Yes</td>\n",
       "      <td>2</td>\n",
       "      <td>Graduate</td>\n",
       "      <td>No</td>\n",
       "      <td>5000</td>\n",
       "      <td>1800</td>\n",
       "      <td>208.0</td>\n",
       "      <td>360.0</td>\n",
       "      <td>1.0</td>\n",
       "      <td>Urban</td>\n",
       "    </tr>\n",
       "    <tr>\n",
       "      <th>3</th>\n",
       "      <td>LP001035</td>\n",
       "      <td>Male</td>\n",
       "      <td>Yes</td>\n",
       "      <td>2</td>\n",
       "      <td>Graduate</td>\n",
       "      <td>No</td>\n",
       "      <td>2340</td>\n",
       "      <td>2546</td>\n",
       "      <td>100.0</td>\n",
       "      <td>360.0</td>\n",
       "      <td>NaN</td>\n",
       "      <td>Urban</td>\n",
       "    </tr>\n",
       "    <tr>\n",
       "      <th>4</th>\n",
       "      <td>LP001051</td>\n",
       "      <td>Male</td>\n",
       "      <td>No</td>\n",
       "      <td>0</td>\n",
       "      <td>Not Graduate</td>\n",
       "      <td>No</td>\n",
       "      <td>3276</td>\n",
       "      <td>0</td>\n",
       "      <td>78.0</td>\n",
       "      <td>360.0</td>\n",
       "      <td>1.0</td>\n",
       "      <td>Urban</td>\n",
       "    </tr>\n",
       "  </tbody>\n",
       "</table>\n",
       "</div>"
      ],
      "text/plain": [
       "    Loan_ID Gender Married Dependents     Education Self_Employed  \\\n",
       "0  LP001015   Male     Yes          0      Graduate            No   \n",
       "1  LP001022   Male     Yes          1      Graduate            No   \n",
       "2  LP001031   Male     Yes          2      Graduate            No   \n",
       "3  LP001035   Male     Yes          2      Graduate            No   \n",
       "4  LP001051   Male      No          0  Not Graduate            No   \n",
       "\n",
       "   ApplicantIncome  CoapplicantIncome  LoanAmount  Loan_Amount_Term  \\\n",
       "0             5720                  0       110.0             360.0   \n",
       "1             3076               1500       126.0             360.0   \n",
       "2             5000               1800       208.0             360.0   \n",
       "3             2340               2546       100.0             360.0   \n",
       "4             3276                  0        78.0             360.0   \n",
       "\n",
       "   Credit_History Property_Area  \n",
       "0             1.0         Urban  \n",
       "1             1.0         Urban  \n",
       "2             1.0         Urban  \n",
       "3             NaN         Urban  \n",
       "4             1.0         Urban  "
      ]
     },
     "execution_count": 3,
     "metadata": {},
     "output_type": "execute_result"
    }
   ],
   "source": [
    "test = pd.read_csv('test.csv')\n",
    "print(test.shape)\n",
    "test.head()"
   ]
  },
  {
   "cell_type": "markdown",
   "metadata": {},
   "source": [
    "### 合併訓練和測試的資料"
   ]
  },
  {
   "cell_type": "code",
   "execution_count": 4,
   "metadata": {},
   "outputs": [
    {
     "name": "stderr",
     "output_type": "stream",
     "text": [
      "/usr/local/lib/python3.5/dist-packages/pandas/core/frame.py:6692: FutureWarning: Sorting because non-concatenation axis is not aligned. A future version\n",
      "of pandas will change to not sort by default.\n",
      "\n",
      "To accept the future behavior, pass 'sort=False'.\n",
      "\n",
      "To retain the current behavior and silence the warning, pass 'sort=True'.\n",
      "\n",
      "  sort=sort)\n"
     ]
    },
    {
     "data": {
      "text/html": [
       "<div>\n",
       "<style scoped>\n",
       "    .dataframe tbody tr th:only-of-type {\n",
       "        vertical-align: middle;\n",
       "    }\n",
       "\n",
       "    .dataframe tbody tr th {\n",
       "        vertical-align: top;\n",
       "    }\n",
       "\n",
       "    .dataframe thead th {\n",
       "        text-align: right;\n",
       "    }\n",
       "</style>\n",
       "<table border=\"1\" class=\"dataframe\">\n",
       "  <thead>\n",
       "    <tr style=\"text-align: right;\">\n",
       "      <th></th>\n",
       "      <th>ApplicantIncome</th>\n",
       "      <th>CoapplicantIncome</th>\n",
       "      <th>Credit_History</th>\n",
       "      <th>LoanAmount</th>\n",
       "      <th>Loan_Amount_Term</th>\n",
       "    </tr>\n",
       "  </thead>\n",
       "  <tbody>\n",
       "    <tr>\n",
       "      <th>count</th>\n",
       "      <td>981.000000</td>\n",
       "      <td>981.000000</td>\n",
       "      <td>902.000000</td>\n",
       "      <td>954.000000</td>\n",
       "      <td>961.000000</td>\n",
       "    </tr>\n",
       "    <tr>\n",
       "      <th>mean</th>\n",
       "      <td>5179.795107</td>\n",
       "      <td>1601.916330</td>\n",
       "      <td>0.835920</td>\n",
       "      <td>142.511530</td>\n",
       "      <td>342.201873</td>\n",
       "    </tr>\n",
       "    <tr>\n",
       "      <th>std</th>\n",
       "      <td>5695.104533</td>\n",
       "      <td>2718.772806</td>\n",
       "      <td>0.370553</td>\n",
       "      <td>77.421743</td>\n",
       "      <td>65.100602</td>\n",
       "    </tr>\n",
       "    <tr>\n",
       "      <th>min</th>\n",
       "      <td>0.000000</td>\n",
       "      <td>0.000000</td>\n",
       "      <td>0.000000</td>\n",
       "      <td>9.000000</td>\n",
       "      <td>6.000000</td>\n",
       "    </tr>\n",
       "    <tr>\n",
       "      <th>25%</th>\n",
       "      <td>2875.000000</td>\n",
       "      <td>0.000000</td>\n",
       "      <td>1.000000</td>\n",
       "      <td>100.000000</td>\n",
       "      <td>360.000000</td>\n",
       "    </tr>\n",
       "    <tr>\n",
       "      <th>50%</th>\n",
       "      <td>3800.000000</td>\n",
       "      <td>1110.000000</td>\n",
       "      <td>1.000000</td>\n",
       "      <td>126.000000</td>\n",
       "      <td>360.000000</td>\n",
       "    </tr>\n",
       "    <tr>\n",
       "      <th>75%</th>\n",
       "      <td>5516.000000</td>\n",
       "      <td>2365.000000</td>\n",
       "      <td>1.000000</td>\n",
       "      <td>162.000000</td>\n",
       "      <td>360.000000</td>\n",
       "    </tr>\n",
       "    <tr>\n",
       "      <th>max</th>\n",
       "      <td>81000.000000</td>\n",
       "      <td>41667.000000</td>\n",
       "      <td>1.000000</td>\n",
       "      <td>700.000000</td>\n",
       "      <td>480.000000</td>\n",
       "    </tr>\n",
       "  </tbody>\n",
       "</table>\n",
       "</div>"
      ],
      "text/plain": [
       "       ApplicantIncome  CoapplicantIncome  Credit_History  LoanAmount  \\\n",
       "count       981.000000         981.000000      902.000000  954.000000   \n",
       "mean       5179.795107        1601.916330        0.835920  142.511530   \n",
       "std        5695.104533        2718.772806        0.370553   77.421743   \n",
       "min           0.000000           0.000000        0.000000    9.000000   \n",
       "25%        2875.000000           0.000000        1.000000  100.000000   \n",
       "50%        3800.000000        1110.000000        1.000000  126.000000   \n",
       "75%        5516.000000        2365.000000        1.000000  162.000000   \n",
       "max       81000.000000       41667.000000        1.000000  700.000000   \n",
       "\n",
       "       Loan_Amount_Term  \n",
       "count        961.000000  \n",
       "mean         342.201873  \n",
       "std           65.100602  \n",
       "min            6.000000  \n",
       "25%          360.000000  \n",
       "50%          360.000000  \n",
       "75%          360.000000  \n",
       "max          480.000000  "
      ]
     },
     "execution_count": 4,
     "metadata": {},
     "output_type": "execute_result"
    }
   ],
   "source": [
    "df_all = train.append(test, ignore_index=True)\n",
    "# 排除Lona_ID及Loan_Status\n",
    "df_all = df_all.drop(['Loan_ID', 'Loan_Status'], axis=1)\n",
    "df_all.describe()"
   ]
  },
  {
   "cell_type": "markdown",
   "metadata": {},
   "source": [
    "#### 從上圖可得知ApplicantIncome、CoapplicantIncome、LoanAmount和Loan_Amount_Term有離散值"
   ]
  },
  {
   "cell_type": "code",
   "execution_count": 5,
   "metadata": {},
   "outputs": [
    {
     "name": "stdout",
     "output_type": "stream",
     "text": [
      "<class 'pandas.core.frame.DataFrame'>\n",
      "RangeIndex: 981 entries, 0 to 980\n",
      "Data columns (total 11 columns):\n",
      "ApplicantIncome      981 non-null int64\n",
      "CoapplicantIncome    981 non-null float64\n",
      "Credit_History       902 non-null float64\n",
      "Dependents           956 non-null object\n",
      "Education            981 non-null object\n",
      "Gender               957 non-null object\n",
      "LoanAmount           954 non-null float64\n",
      "Loan_Amount_Term     961 non-null float64\n",
      "Married              978 non-null object\n",
      "Property_Area        981 non-null object\n",
      "Self_Employed        926 non-null object\n",
      "dtypes: float64(4), int64(1), object(6)\n",
      "memory usage: 84.4+ KB\n"
     ]
    }
   ],
   "source": [
    "df_all.info()"
   ]
  },
  {
   "cell_type": "markdown",
   "metadata": {},
   "source": [
    "#### 從info資訊可知credit_History, Dependents, Gender, LoanAmount,  Loan_Amount_Term, Married及Self_Employed有缺失值。"
   ]
  },
  {
   "cell_type": "markdown",
   "metadata": {},
   "source": [
    "### 查看屬性與核貸結果的關係"
   ]
  },
  {
   "cell_type": "markdown",
   "metadata": {},
   "source": [
    "#### 視覺化並查看定性屬性與核貸結果的關係"
   ]
  },
  {
   "cell_type": "code",
   "execution_count": 6,
   "metadata": {},
   "outputs": [
    {
     "data": {
      "text/plain": [
       "<Figure size 432x288 with 0 Axes>"
      ]
     },
     "metadata": {},
     "output_type": "display_data"
    },
    {
     "data": {
      "image/png": "[encoded data removed]",
      "text/plain": [
       "<Figure size 432x288 with 1 Axes>"
      ]
     },
     "metadata": {
      "needs_background": "light"
     },
     "output_type": "display_data"
    },
    {
     "data": {
      "text/html": [
       "<style  type=\"text/css\" >\n",
       "</style><table id=\"T_2969d984_b5f4_11ea_81a1_080027a2b094\" ><thead>    <tr>        <th class=\"blank level0\" ></th>        <th class=\"col_heading level0 col0\" >N</th>        <th class=\"col_heading level0 col1\" >Y</th>        <th class=\"col_heading level0 col2\" >Total</th>        <th class=\"col_heading level0 col3\" >Y_ratio</th>    </tr></thead><tbody>\n",
       "                <tr>\n",
       "                        <th id=\"T_2969d984_b5f4_11ea_81a1_080027a2b094level0_row0\" class=\"row_heading level0 row0\" >Male</th>\n",
       "                        <td id=\"T_2969d984_b5f4_11ea_81a1_080027a2b094row0_col0\" class=\"data row0 col0\" >150</td>\n",
       "                        <td id=\"T_2969d984_b5f4_11ea_81a1_080027a2b094row0_col1\" class=\"data row0 col1\" >339</td>\n",
       "                        <td id=\"T_2969d984_b5f4_11ea_81a1_080027a2b094row0_col2\" class=\"data row0 col2\" >489</td>\n",
       "                        <td id=\"T_2969d984_b5f4_11ea_81a1_080027a2b094row0_col3\" class=\"data row0 col3\" >69.33</td>\n",
       "            </tr>\n",
       "            <tr>\n",
       "                        <th id=\"T_2969d984_b5f4_11ea_81a1_080027a2b094level0_row1\" class=\"row_heading level0 row1\" >Female</th>\n",
       "                        <td id=\"T_2969d984_b5f4_11ea_81a1_080027a2b094row1_col0\" class=\"data row1 col0\" >37</td>\n",
       "                        <td id=\"T_2969d984_b5f4_11ea_81a1_080027a2b094row1_col1\" class=\"data row1 col1\" >75</td>\n",
       "                        <td id=\"T_2969d984_b5f4_11ea_81a1_080027a2b094row1_col2\" class=\"data row1 col2\" >112</td>\n",
       "                        <td id=\"T_2969d984_b5f4_11ea_81a1_080027a2b094row1_col3\" class=\"data row1 col3\" >66.96</td>\n",
       "            </tr>\n",
       "    </tbody></table>"
      ],
      "text/plain": [
       "<pandas.io.formats.style.Styler at 0x7f1cf1fbbe48>"
      ]
     },
     "execution_count": 6,
     "metadata": {},
     "output_type": "execute_result"
    }
   ],
   "source": [
    "# 性別與貸款 \n",
    "fig = mp.figure()\n",
    "fig.set(alpha=0.2)\n",
    "\n",
    "gender_Y = train.Gender[train.Loan_Status == 'Y'].value_counts()\n",
    "gender_N = train.Gender[train.Loan_Status == 'N'].value_counts()\n",
    "\n",
    "df = pd.DataFrame({'Y': gender_Y, 'N': gender_N})\n",
    "df.plot(kind='bar')\n",
    "mp.title('Gender with Loan Status')\n",
    "mp.ylabel('Loan_status')\n",
    "mp.xlabel('Gender')\n",
    "mp.xticks(rotation=360)\n",
    "mp.legend()\n",
    "mp.show()\n",
    "df['Total'] = df['N'] + df[\"Y\"]\n",
    "df[\"Y_ratio\"] = (df['Y'] / (df['Total'])) * 100\n",
    "df.style.format('{:.2f}', subset='Y_ratio')"
   ]
  },
  {
   "cell_type": "code",
   "execution_count": 7,
   "metadata": {},
   "outputs": [
    {
     "data": {
      "text/plain": [
       "<Figure size 432x288 with 0 Axes>"
      ]
     },
     "metadata": {},
     "output_type": "display_data"
    },
    {
     "data": {
      "image/png": "[encoded data removed]",
      "text/plain": [
       "<Figure size 432x288 with 1 Axes>"
      ]
     },
     "metadata": {
      "needs_background": "light"
     },
     "output_type": "display_data"
    },
    {
     "data": {
      "text/html": [
       "<style  type=\"text/css\" >\n",
       "</style><table id=\"T_2bf72562_b5f4_11ea_81a1_080027a2b094\" ><thead>    <tr>        <th class=\"blank level0\" ></th>        <th class=\"col_heading level0 col0\" >N</th>        <th class=\"col_heading level0 col1\" >Y</th>        <th class=\"col_heading level0 col2\" >Total</th>        <th class=\"col_heading level0 col3\" >Y_ratio</th>    </tr></thead><tbody>\n",
       "                <tr>\n",
       "                        <th id=\"T_2bf72562_b5f4_11ea_81a1_080027a2b094level0_row0\" class=\"row_heading level0 row0\" >Yes</th>\n",
       "                        <td id=\"T_2bf72562_b5f4_11ea_81a1_080027a2b094row0_col0\" class=\"data row0 col0\" >113</td>\n",
       "                        <td id=\"T_2bf72562_b5f4_11ea_81a1_080027a2b094row0_col1\" class=\"data row0 col1\" >285</td>\n",
       "                        <td id=\"T_2bf72562_b5f4_11ea_81a1_080027a2b094row0_col2\" class=\"data row0 col2\" >398</td>\n",
       "                        <td id=\"T_2bf72562_b5f4_11ea_81a1_080027a2b094row0_col3\" class=\"data row0 col3\" >71.61</td>\n",
       "            </tr>\n",
       "            <tr>\n",
       "                        <th id=\"T_2bf72562_b5f4_11ea_81a1_080027a2b094level0_row1\" class=\"row_heading level0 row1\" >No</th>\n",
       "                        <td id=\"T_2bf72562_b5f4_11ea_81a1_080027a2b094row1_col0\" class=\"data row1 col0\" >79</td>\n",
       "                        <td id=\"T_2bf72562_b5f4_11ea_81a1_080027a2b094row1_col1\" class=\"data row1 col1\" >134</td>\n",
       "                        <td id=\"T_2bf72562_b5f4_11ea_81a1_080027a2b094row1_col2\" class=\"data row1 col2\" >213</td>\n",
       "                        <td id=\"T_2bf72562_b5f4_11ea_81a1_080027a2b094row1_col3\" class=\"data row1 col3\" >62.91</td>\n",
       "            </tr>\n",
       "    </tbody></table>"
      ],
      "text/plain": [
       "<pandas.io.formats.style.Styler at 0x7f1cf17d2668>"
      ]
     },
     "execution_count": 7,
     "metadata": {},
     "output_type": "execute_result"
    }
   ],
   "source": [
    "# 婚姻狀態與貸款 \n",
    "fig = mp.figure()\n",
    "fig.set(alpha=0.2)\n",
    "\n",
    "married_Y = train.Married[train.Loan_Status == 'Y'].value_counts()\n",
    "married_N = train.Married[train.Loan_Status == 'N'].value_counts()\n",
    "\n",
    "df = pd.DataFrame({'Y': married_Y, 'N': married_N})\n",
    "df.plot(kind='bar')\n",
    "mp.title('Married with Loan Status')\n",
    "mp.ylabel('Loan_status')\n",
    "mp.xlabel('Married')\n",
    "mp.xticks(rotation=360)\n",
    "mp.legend()\n",
    "mp.show()\n",
    "df['Total'] = df['N'] + df[\"Y\"]\n",
    "df[\"Y_ratio\"] = (df['Y'] / df['Total']) * 100\n",
    "df.style.format('{:.2f}', subset='Y_ratio')"
   ]
  },
  {
   "cell_type": "code",
   "execution_count": 8,
   "metadata": {},
   "outputs": [
    {
     "data": {
      "text/plain": [
       "<Figure size 432x288 with 0 Axes>"
      ]
     },
     "metadata": {},
     "output_type": "display_data"
    },
    {
     "data": {
      "image/png": "[encoded data removed]",
      "text/plain": [
       "<Figure size 432x288 with 1 Axes>"
      ]
     },
     "metadata": {
      "needs_background": "light"
     },
     "output_type": "display_data"
    },
    {
     "data": {
      "text/html": [
       "<style  type=\"text/css\" >\n",
       "</style><table id=\"T_310c82d6_b5f4_11ea_81a1_080027a2b094\" ><thead>    <tr>        <th class=\"blank level0\" ></th>        <th class=\"col_heading level0 col0\" >N</th>        <th class=\"col_heading level0 col1\" >Y</th>        <th class=\"col_heading level0 col2\" >Total</th>        <th class=\"col_heading level0 col3\" >Y_ratio</th>    </tr></thead><tbody>\n",
       "                <tr>\n",
       "                        <th id=\"T_310c82d6_b5f4_11ea_81a1_080027a2b094level0_row0\" class=\"row_heading level0 row0\" >0</th>\n",
       "                        <td id=\"T_310c82d6_b5f4_11ea_81a1_080027a2b094row0_col0\" class=\"data row0 col0\" >107</td>\n",
       "                        <td id=\"T_310c82d6_b5f4_11ea_81a1_080027a2b094row0_col1\" class=\"data row0 col1\" >238</td>\n",
       "                        <td id=\"T_310c82d6_b5f4_11ea_81a1_080027a2b094row0_col2\" class=\"data row0 col2\" >345</td>\n",
       "                        <td id=\"T_310c82d6_b5f4_11ea_81a1_080027a2b094row0_col3\" class=\"data row0 col3\" >68.99</td>\n",
       "            </tr>\n",
       "            <tr>\n",
       "                        <th id=\"T_310c82d6_b5f4_11ea_81a1_080027a2b094level0_row1\" class=\"row_heading level0 row1\" >1</th>\n",
       "                        <td id=\"T_310c82d6_b5f4_11ea_81a1_080027a2b094row1_col0\" class=\"data row1 col0\" >36</td>\n",
       "                        <td id=\"T_310c82d6_b5f4_11ea_81a1_080027a2b094row1_col1\" class=\"data row1 col1\" >66</td>\n",
       "                        <td id=\"T_310c82d6_b5f4_11ea_81a1_080027a2b094row1_col2\" class=\"data row1 col2\" >102</td>\n",
       "                        <td id=\"T_310c82d6_b5f4_11ea_81a1_080027a2b094row1_col3\" class=\"data row1 col3\" >64.71</td>\n",
       "            </tr>\n",
       "            <tr>\n",
       "                        <th id=\"T_310c82d6_b5f4_11ea_81a1_080027a2b094level0_row2\" class=\"row_heading level0 row2\" >2</th>\n",
       "                        <td id=\"T_310c82d6_b5f4_11ea_81a1_080027a2b094row2_col0\" class=\"data row2 col0\" >25</td>\n",
       "                        <td id=\"T_310c82d6_b5f4_11ea_81a1_080027a2b094row2_col1\" class=\"data row2 col1\" >76</td>\n",
       "                        <td id=\"T_310c82d6_b5f4_11ea_81a1_080027a2b094row2_col2\" class=\"data row2 col2\" >101</td>\n",
       "                        <td id=\"T_310c82d6_b5f4_11ea_81a1_080027a2b094row2_col3\" class=\"data row2 col3\" >75.25</td>\n",
       "            </tr>\n",
       "            <tr>\n",
       "                        <th id=\"T_310c82d6_b5f4_11ea_81a1_080027a2b094level0_row3\" class=\"row_heading level0 row3\" >3+</th>\n",
       "                        <td id=\"T_310c82d6_b5f4_11ea_81a1_080027a2b094row3_col0\" class=\"data row3 col0\" >18</td>\n",
       "                        <td id=\"T_310c82d6_b5f4_11ea_81a1_080027a2b094row3_col1\" class=\"data row3 col1\" >33</td>\n",
       "                        <td id=\"T_310c82d6_b5f4_11ea_81a1_080027a2b094row3_col2\" class=\"data row3 col2\" >51</td>\n",
       "                        <td id=\"T_310c82d6_b5f4_11ea_81a1_080027a2b094row3_col3\" class=\"data row3 col3\" >64.71</td>\n",
       "            </tr>\n",
       "    </tbody></table>"
      ],
      "text/plain": [
       "<pandas.io.formats.style.Styler at 0x7f1cf17609b0>"
      ]
     },
     "execution_count": 8,
     "metadata": {},
     "output_type": "execute_result"
    }
   ],
   "source": [
    "# 扶養人數與貸款 \n",
    "fig = mp.figure()\n",
    "fig.set(alpha=0.2)\n",
    "\n",
    "dep_Y = train.Dependents[train.Loan_Status == 'Y'].value_counts()\n",
    "dep_N = train.Dependents[train.Loan_Status == 'N'].value_counts()\n",
    "\n",
    "df = pd.DataFrame({'Y':dep_Y, 'N': dep_N})\n",
    "df.plot(kind='bar')\n",
    "mp.title('Dependents with Loan Status')\n",
    "mp.ylabel('Loan_status')\n",
    "mp.xlabel('Dependents')\n",
    "mp.xticks(rotation=360)\n",
    "mp.legend()\n",
    "mp.show()\n",
    "df['Total'] = df['N'] + df[\"Y\"]\n",
    "df[\"Y_ratio\"] = (df['Y'] / (df['Total'])) * 100\n",
    "df.style.format('{:.2f}', subset='Y_ratio')"
   ]
  },
  {
   "cell_type": "code",
   "execution_count": 9,
   "metadata": {},
   "outputs": [
    {
     "data": {
      "text/plain": [
       "<Figure size 432x288 with 0 Axes>"
      ]
     },
     "metadata": {},
     "output_type": "display_data"
    },
    {
     "data": {
      "image/png": "[encoded data removed]",
      "text/plain": [
       "<Figure size 432x288 with 1 Axes>"
      ]
     },
     "metadata": {
      "needs_background": "light"
     },
     "output_type": "display_data"
    },
    {
     "data": {
      "text/html": [
       "<style  type=\"text/css\" >\n",
       "</style><table id=\"T_340f7e8e_b5f4_11ea_81a1_080027a2b094\" ><thead>    <tr>        <th class=\"blank level0\" ></th>        <th class=\"col_heading level0 col0\" >N</th>        <th class=\"col_heading level0 col1\" >Y</th>        <th class=\"col_heading level0 col2\" >Total</th>        <th class=\"col_heading level0 col3\" >Y_ratio</th>    </tr></thead><tbody>\n",
       "                <tr>\n",
       "                        <th id=\"T_340f7e8e_b5f4_11ea_81a1_080027a2b094level0_row0\" class=\"row_heading level0 row0\" >Graduate</th>\n",
       "                        <td id=\"T_340f7e8e_b5f4_11ea_81a1_080027a2b094row0_col0\" class=\"data row0 col0\" >140</td>\n",
       "                        <td id=\"T_340f7e8e_b5f4_11ea_81a1_080027a2b094row0_col1\" class=\"data row0 col1\" >340</td>\n",
       "                        <td id=\"T_340f7e8e_b5f4_11ea_81a1_080027a2b094row0_col2\" class=\"data row0 col2\" >480</td>\n",
       "                        <td id=\"T_340f7e8e_b5f4_11ea_81a1_080027a2b094row0_col3\" class=\"data row0 col3\" >70.83</td>\n",
       "            </tr>\n",
       "            <tr>\n",
       "                        <th id=\"T_340f7e8e_b5f4_11ea_81a1_080027a2b094level0_row1\" class=\"row_heading level0 row1\" >Not Graduate</th>\n",
       "                        <td id=\"T_340f7e8e_b5f4_11ea_81a1_080027a2b094row1_col0\" class=\"data row1 col0\" >52</td>\n",
       "                        <td id=\"T_340f7e8e_b5f4_11ea_81a1_080027a2b094row1_col1\" class=\"data row1 col1\" >82</td>\n",
       "                        <td id=\"T_340f7e8e_b5f4_11ea_81a1_080027a2b094row1_col2\" class=\"data row1 col2\" >134</td>\n",
       "                        <td id=\"T_340f7e8e_b5f4_11ea_81a1_080027a2b094row1_col3\" class=\"data row1 col3\" >61.19</td>\n",
       "            </tr>\n",
       "    </tbody></table>"
      ],
      "text/plain": [
       "<pandas.io.formats.style.Styler at 0x7f1cf1701198>"
      ]
     },
     "execution_count": 9,
     "metadata": {},
     "output_type": "execute_result"
    }
   ],
   "source": [
    "# 教育與貸款 \n",
    "fig = mp.figure()\n",
    "fig.set(alpha=0.2)\n",
    "\n",
    "edu_Y = train.Education[train.Loan_Status == 'Y'].value_counts()\n",
    "edu_N = train.Education[train.Loan_Status == 'N'].value_counts()\n",
    "\n",
    "df = pd.DataFrame({'Y':edu_Y, 'N': edu_N})\n",
    "df.plot(kind='bar')\n",
    "mp.title('Education with Loan Status')\n",
    "mp.ylabel('Loan_status')\n",
    "mp.xlabel('Education')\n",
    "mp.xticks(rotation=360)\n",
    "mp.legend()\n",
    "mp.show()\n",
    "df['Total'] = df['N'] + df[\"Y\"]\n",
    "df[\"Y_ratio\"] = (df['Y'] / (df['Total'])) * 100\n",
    "df.style.format('{:.2f}', subset='Y_ratio')"
   ]
  },
  {
   "cell_type": "code",
   "execution_count": 10,
   "metadata": {},
   "outputs": [
    {
     "data": {
      "text/plain": [
       "<Figure size 432x288 with 0 Axes>"
      ]
     },
     "metadata": {},
     "output_type": "display_data"
    },
    {
     "data": {
      "image/png": "[encoded data removed]",
      "text/plain": [
       "<Figure size 432x288 with 1 Axes>"
      ]
     },
     "metadata": {
      "needs_background": "light"
     },
     "output_type": "display_data"
    },
    {
     "data": {
      "text/html": [
       "<style  type=\"text/css\" >\n",
       "</style><table id=\"T_3728b806_b5f4_11ea_81a1_080027a2b094\" ><thead>    <tr>        <th class=\"blank level0\" ></th>        <th class=\"col_heading level0 col0\" >N</th>        <th class=\"col_heading level0 col1\" >Y</th>        <th class=\"col_heading level0 col2\" >Total</th>        <th class=\"col_heading level0 col3\" >Y_ratio</th>    </tr></thead><tbody>\n",
       "                <tr>\n",
       "                        <th id=\"T_3728b806_b5f4_11ea_81a1_080027a2b094level0_row0\" class=\"row_heading level0 row0\" >No</th>\n",
       "                        <td id=\"T_3728b806_b5f4_11ea_81a1_080027a2b094row0_col0\" class=\"data row0 col0\" >157</td>\n",
       "                        <td id=\"T_3728b806_b5f4_11ea_81a1_080027a2b094row0_col1\" class=\"data row0 col1\" >343</td>\n",
       "                        <td id=\"T_3728b806_b5f4_11ea_81a1_080027a2b094row0_col2\" class=\"data row0 col2\" >500</td>\n",
       "                        <td id=\"T_3728b806_b5f4_11ea_81a1_080027a2b094row0_col3\" class=\"data row0 col3\" >68.60</td>\n",
       "            </tr>\n",
       "            <tr>\n",
       "                        <th id=\"T_3728b806_b5f4_11ea_81a1_080027a2b094level0_row1\" class=\"row_heading level0 row1\" >Yes</th>\n",
       "                        <td id=\"T_3728b806_b5f4_11ea_81a1_080027a2b094row1_col0\" class=\"data row1 col0\" >26</td>\n",
       "                        <td id=\"T_3728b806_b5f4_11ea_81a1_080027a2b094row1_col1\" class=\"data row1 col1\" >56</td>\n",
       "                        <td id=\"T_3728b806_b5f4_11ea_81a1_080027a2b094row1_col2\" class=\"data row1 col2\" >82</td>\n",
       "                        <td id=\"T_3728b806_b5f4_11ea_81a1_080027a2b094row1_col3\" class=\"data row1 col3\" >68.29</td>\n",
       "            </tr>\n",
       "    </tbody></table>"
      ],
      "text/plain": [
       "<pandas.io.formats.style.Styler at 0x7f1cf16e7dd8>"
      ]
     },
     "execution_count": 10,
     "metadata": {},
     "output_type": "execute_result"
    }
   ],
   "source": [
    "# 是否自行創業與貸款 \n",
    "fig = mp.figure()\n",
    "fig.set(alpha=0.2)\n",
    "\n",
    "SE_Y = train.Self_Employed[train.Loan_Status == 'Y'].value_counts()\n",
    "SE_N = train.Self_Employed[train.Loan_Status == 'N'].value_counts()\n",
    "\n",
    "df = pd.DataFrame({'Y':SE_Y, 'N':SE_N})\n",
    "df.plot(kind='bar')\n",
    "mp.title('Self_Employed with Loan Status')\n",
    "mp.ylabel('Loan_status')\n",
    "mp.xlabel('Self_Employed')\n",
    "mp.xticks(rotation=360)\n",
    "mp.legend()\n",
    "mp.show()\n",
    "df['Total'] = df['N'] + df[\"Y\"]\n",
    "df[\"Y_ratio\"] = (df['Y'] / (df['Total'])) * 100\n",
    "df.style.format('{:.2f}', subset='Y_ratio')"
   ]
  },
  {
   "cell_type": "code",
   "execution_count": 11,
   "metadata": {},
   "outputs": [
    {
     "data": {
      "text/plain": [
       "<Figure size 432x288 with 0 Axes>"
      ]
     },
     "metadata": {},
     "output_type": "display_data"
    },
    {
     "data": {
      "image/png": "[encoded data removed]",
      "text/plain": [
       "<Figure size 432x288 with 1 Axes>"
      ]
     },
     "metadata": {
      "needs_background": "light"
     },
     "output_type": "display_data"
    },
    {
     "data": {
      "text/html": [
       "<style  type=\"text/css\" >\n",
       "</style><table id=\"T_3afbd364_b5f4_11ea_81a1_080027a2b094\" ><thead>    <tr>        <th class=\"blank level0\" ></th>        <th class=\"col_heading level0 col0\" >N</th>        <th class=\"col_heading level0 col1\" >Y</th>        <th class=\"col_heading level0 col2\" >Total</th>        <th class=\"col_heading level0 col3\" >Y_ratio</th>    </tr></thead><tbody>\n",
       "                <tr>\n",
       "                        <th id=\"T_3afbd364_b5f4_11ea_81a1_080027a2b094level0_row0\" class=\"row_heading level0 row0\" >1.0</th>\n",
       "                        <td id=\"T_3afbd364_b5f4_11ea_81a1_080027a2b094row0_col0\" class=\"data row0 col0\" >97</td>\n",
       "                        <td id=\"T_3afbd364_b5f4_11ea_81a1_080027a2b094row0_col1\" class=\"data row0 col1\" >378</td>\n",
       "                        <td id=\"T_3afbd364_b5f4_11ea_81a1_080027a2b094row0_col2\" class=\"data row0 col2\" >475</td>\n",
       "                        <td id=\"T_3afbd364_b5f4_11ea_81a1_080027a2b094row0_col3\" class=\"data row0 col3\" >79.58</td>\n",
       "            </tr>\n",
       "            <tr>\n",
       "                        <th id=\"T_3afbd364_b5f4_11ea_81a1_080027a2b094level0_row1\" class=\"row_heading level0 row1\" >0.0</th>\n",
       "                        <td id=\"T_3afbd364_b5f4_11ea_81a1_080027a2b094row1_col0\" class=\"data row1 col0\" >82</td>\n",
       "                        <td id=\"T_3afbd364_b5f4_11ea_81a1_080027a2b094row1_col1\" class=\"data row1 col1\" >7</td>\n",
       "                        <td id=\"T_3afbd364_b5f4_11ea_81a1_080027a2b094row1_col2\" class=\"data row1 col2\" >89</td>\n",
       "                        <td id=\"T_3afbd364_b5f4_11ea_81a1_080027a2b094row1_col3\" class=\"data row1 col3\" >7.87</td>\n",
       "            </tr>\n",
       "    </tbody></table>"
      ],
      "text/plain": [
       "<pandas.io.formats.style.Styler at 0x7f1cf164a710>"
      ]
     },
     "execution_count": 11,
     "metadata": {},
     "output_type": "execute_result"
    }
   ],
   "source": [
    "# 信用紀錄與貸款\n",
    "# 0:無信用紀錄 1:有信用紀錄 \n",
    "fig = mp.figure()\n",
    "fig.set(alpha=0.2)\n",
    "\n",
    "ch_Y = train.Credit_History[train.Loan_Status == 'Y'].value_counts()\n",
    "ch_N = train.Credit_History[train.Loan_Status == 'N'].value_counts()\n",
    "\n",
    "df = pd.DataFrame({'Y':ch_Y, 'N':ch_N})\n",
    "df.plot(kind='bar')\n",
    "mp.title('Credit History with Loan Status')\n",
    "mp.ylabel('Loan_status')\n",
    "mp.xlabel('Credit History')\n",
    "mp.xticks(rotation=360)\n",
    "mp.legend()\n",
    "mp.show()\n",
    "df['Total'] = df['N'] + df[\"Y\"]\n",
    "df[\"Y_ratio\"] = (df['Y'] / (df['Total'])) * 100\n",
    "df.style.format('{:.2f}', subset='Y_ratio')"
   ]
  },
  {
   "cell_type": "code",
   "execution_count": 12,
   "metadata": {},
   "outputs": [
    {
     "data": {
      "text/plain": [
       "<Figure size 432x288 with 0 Axes>"
      ]
     },
     "metadata": {},
     "output_type": "display_data"
    },
    {
     "data": {
      "image/png": "[encoded data removed]",
      "text/plain": [
       "<Figure size 432x288 with 1 Axes>"
      ]
     },
     "metadata": {
      "needs_background": "light"
     },
     "output_type": "display_data"
    },
    {
     "data": {
      "text/html": [
       "<style  type=\"text/css\" >\n",
       "</style><table id=\"T_3e25b3c0_b5f4_11ea_81a1_080027a2b094\" ><thead>    <tr>        <th class=\"blank level0\" ></th>        <th class=\"col_heading level0 col0\" >N</th>        <th class=\"col_heading level0 col1\" >Y</th>        <th class=\"col_heading level0 col2\" >Total</th>        <th class=\"col_heading level0 col3\" >Y_ratio</th>    </tr></thead><tbody>\n",
       "                <tr>\n",
       "                        <th id=\"T_3e25b3c0_b5f4_11ea_81a1_080027a2b094level0_row0\" class=\"row_heading level0 row0\" >Rural</th>\n",
       "                        <td id=\"T_3e25b3c0_b5f4_11ea_81a1_080027a2b094row0_col0\" class=\"data row0 col0\" >69</td>\n",
       "                        <td id=\"T_3e25b3c0_b5f4_11ea_81a1_080027a2b094row0_col1\" class=\"data row0 col1\" >110</td>\n",
       "                        <td id=\"T_3e25b3c0_b5f4_11ea_81a1_080027a2b094row0_col2\" class=\"data row0 col2\" >179</td>\n",
       "                        <td id=\"T_3e25b3c0_b5f4_11ea_81a1_080027a2b094row0_col3\" class=\"data row0 col3\" >61.45</td>\n",
       "            </tr>\n",
       "            <tr>\n",
       "                        <th id=\"T_3e25b3c0_b5f4_11ea_81a1_080027a2b094level0_row1\" class=\"row_heading level0 row1\" >Semiurban</th>\n",
       "                        <td id=\"T_3e25b3c0_b5f4_11ea_81a1_080027a2b094row1_col0\" class=\"data row1 col0\" >54</td>\n",
       "                        <td id=\"T_3e25b3c0_b5f4_11ea_81a1_080027a2b094row1_col1\" class=\"data row1 col1\" >179</td>\n",
       "                        <td id=\"T_3e25b3c0_b5f4_11ea_81a1_080027a2b094row1_col2\" class=\"data row1 col2\" >233</td>\n",
       "                        <td id=\"T_3e25b3c0_b5f4_11ea_81a1_080027a2b094row1_col3\" class=\"data row1 col3\" >76.82</td>\n",
       "            </tr>\n",
       "            <tr>\n",
       "                        <th id=\"T_3e25b3c0_b5f4_11ea_81a1_080027a2b094level0_row2\" class=\"row_heading level0 row2\" >Urban</th>\n",
       "                        <td id=\"T_3e25b3c0_b5f4_11ea_81a1_080027a2b094row2_col0\" class=\"data row2 col0\" >69</td>\n",
       "                        <td id=\"T_3e25b3c0_b5f4_11ea_81a1_080027a2b094row2_col1\" class=\"data row2 col1\" >133</td>\n",
       "                        <td id=\"T_3e25b3c0_b5f4_11ea_81a1_080027a2b094row2_col2\" class=\"data row2 col2\" >202</td>\n",
       "                        <td id=\"T_3e25b3c0_b5f4_11ea_81a1_080027a2b094row2_col3\" class=\"data row2 col3\" >65.84</td>\n",
       "            </tr>\n",
       "    </tbody></table>"
      ],
      "text/plain": [
       "<pandas.io.formats.style.Styler at 0x7f1cf1614c50>"
      ]
     },
     "execution_count": 12,
     "metadata": {},
     "output_type": "execute_result"
    }
   ],
   "source": [
    "# 房屋地區與貸款 \n",
    "fig = mp.figure()\n",
    "fig.set(alpha=0.2)\n",
    "\n",
    "PA_Y = train.Property_Area[train.Loan_Status == 'Y'].value_counts()\n",
    "PA_N = train.Property_Area[train.Loan_Status == 'N'].value_counts()\n",
    "\n",
    "df = pd.DataFrame({'Y':PA_Y, 'N':PA_N})\n",
    "df.plot(kind='bar')\n",
    "mp.title('Property Area with Loan Status')\n",
    "mp.ylabel('Loan_status')\n",
    "mp.xlabel('Property Area')\n",
    "mp.xticks(rotation=360)\n",
    "mp.legend()\n",
    "mp.show()\n",
    "df['Total'] = df['N'] + df[\"Y\"]\n",
    "df[\"Y_ratio\"] = (df['Y'] / (df['Total'])) * 100\n",
    "df.style.format('{:.2f}', subset='Y_ratio')"
   ]
  },
  {
   "cell_type": "markdown",
   "metadata": {},
   "source": [
    "### 從上圖可得知定性屬性與核貸結果關係:\n",
    "#### 性別: 男性申請總數高於女生, 但成功核貸比率其實男女差距不大。\n",
    "#### 婚姻: 已婚申請總數高於未婚, 成功核貸比率也相對比未婚高\n",
    "#### 扶養人數: 撫養人數為0的申請總數多, 但成功核貸比率反而是撫養人數為2較高。\n",
    "#### 教育程度: 有大學畢業申請總數較多, 成功核貸比率也較高。\n",
    "#### 自行創業: 未自行創業申請總數較多, 兩者成功核貸比率差距不大。\n",
    "#### 信用紀錄: 有信用紀錄的申請總數較多且成功核貸比率偏高。\n",
    "#### 房屋區域: 半郊區的申請總數較多且成功核貸比率較高。\n",
    "#### 綜合以上幾個屬性可以發現是否有信用紀錄影響核貸結果較大。"
   ]
  },
  {
   "cell_type": "markdown",
   "metadata": {},
   "source": [
    "#### 查看定量的連續分佈"
   ]
  },
  {
   "cell_type": "code",
   "execution_count": 13,
   "metadata": {
    "scrolled": true
   },
   "outputs": [
    {
     "name": "stdout",
     "output_type": "stream",
     "text": [
      "mu = 5179.80, sigma = 5692.20\n"
     ]
    },
    {
     "data": {
      "image/png": "[encoded data removed]",
      "text/plain": [
       "<Figure size 432x288 with 1 Axes>"
      ]
     },
     "metadata": {},
     "output_type": "display_data"
    }
   ],
   "source": [
    "# 申請人收入\n",
    "(mu, sigma) = norm.fit(df_all['ApplicantIncome'])\n",
    "print('mu = {:.2f}, sigma = {:.2f}'.format(mu,sigma))\n",
    "\n",
    "sns.set_style('whitegrid')\n",
    "sns.distplot(df_all['ApplicantIncome'], fit=norm)\n",
    "mp.title('ApplicantIncome distribution')\n",
    "mp.show()"
   ]
  },
  {
   "cell_type": "markdown",
   "metadata": {},
   "source": [
    "#### 圖形偏左,非常態分佈"
   ]
  },
  {
   "cell_type": "code",
   "execution_count": 14,
   "metadata": {},
   "outputs": [
    {
     "name": "stdout",
     "output_type": "stream",
     "text": [
      "mu = 8.31, sigma = 0.72\n"
     ]
    },
    {
     "data": {
      "image/png": "[encoded data removed]",
      "text/plain": [
       "<Figure size 432x288 with 1 Axes>"
      ]
     },
     "metadata": {},
     "output_type": "display_data"
    }
   ],
   "source": [
    "# 使用log修正\n",
    "df_all['ApplicantIncome'] = np.log1p(df_all['ApplicantIncome'])\n",
    "(mu, sigma) = norm.fit(df_all['ApplicantIncome'])\n",
    "print('mu = {:.2f}, sigma = {:.2f}'.format(mu,sigma))\n",
    "\n",
    "sns.set_style('whitegrid')\n",
    "sns.distplot(df_all['ApplicantIncome'], fit=norm)\n",
    "mp.title('ApplicantIncome distribution')\n",
    "mp.show()"
   ]
  },
  {
   "cell_type": "code",
   "execution_count": 15,
   "metadata": {},
   "outputs": [
    {
     "data": {
      "text/html": [
       "<div>\n",
       "<style scoped>\n",
       "    .dataframe tbody tr th:only-of-type {\n",
       "        vertical-align: middle;\n",
       "    }\n",
       "\n",
       "    .dataframe tbody tr th {\n",
       "        vertical-align: top;\n",
       "    }\n",
       "\n",
       "    .dataframe thead th {\n",
       "        text-align: right;\n",
       "    }\n",
       "</style>\n",
       "<table border=\"1\" class=\"dataframe\">\n",
       "  <thead>\n",
       "    <tr style=\"text-align: right;\">\n",
       "      <th></th>\n",
       "      <th>skew</th>\n",
       "    </tr>\n",
       "  </thead>\n",
       "  <tbody>\n",
       "    <tr>\n",
       "      <th>CoapplicantIncome</th>\n",
       "      <td>6.833639</td>\n",
       "    </tr>\n",
       "    <tr>\n",
       "      <th>LoanAmount</th>\n",
       "      <td>2.709767</td>\n",
       "    </tr>\n",
       "    <tr>\n",
       "      <th>all_Income</th>\n",
       "      <td>6.833851</td>\n",
       "    </tr>\n",
       "    <tr>\n",
       "      <th>Loan_Amount_Term</th>\n",
       "      <td>-2.473523</td>\n",
       "    </tr>\n",
       "  </tbody>\n",
       "</table>\n",
       "</div>"
      ],
      "text/plain": [
       "                       skew\n",
       "CoapplicantIncome  6.833639\n",
       "LoanAmount         2.709767\n",
       "all_Income         6.833851\n",
       "Loan_Amount_Term  -2.473523"
      ]
     },
     "execution_count": 15,
     "metadata": {},
     "output_type": "execute_result"
    }
   ],
   "source": [
    "# 因有些申請人並沒有擔保人\n",
    "# 新增一個屬性為申請人收入+擔保人收入\n",
    "df_all['all_Income'] = df_all['ApplicantIncome'] + df_all['CoapplicantIncome']\n",
    "\n",
    "quan = ['CoapplicantIncome', 'LoanAmount', 'all_Income', 'Loan_Amount_Term']\n",
    "skewness_features = df_all[quan].apply(lambda x: skew(x.dropna()))\n",
    "skewness = pd.DataFrame({'skew':skewness_features})\n",
    "skewness"
   ]
  },
  {
   "cell_type": "markdown",
   "metadata": {},
   "source": [
    "#### CoapplicantIncome、LoanAmount及all_Income 偏移度皆大於0.05，使用log1p修正。"
   ]
  },
  {
   "cell_type": "code",
   "execution_count": 16,
   "metadata": {},
   "outputs": [],
   "source": [
    "df_all[quan] = np.log1p(df_all[quan])"
   ]
  },
  {
   "cell_type": "markdown",
   "metadata": {},
   "source": [
    "## 數據預處理\n",
    "### 查看缺失值"
   ]
  },
  {
   "cell_type": "code",
   "execution_count": 17,
   "metadata": {},
   "outputs": [
    {
     "data": {
      "text/html": [
       "<div>\n",
       "<style scoped>\n",
       "    .dataframe tbody tr th:only-of-type {\n",
       "        vertical-align: middle;\n",
       "    }\n",
       "\n",
       "    .dataframe tbody tr th {\n",
       "        vertical-align: top;\n",
       "    }\n",
       "\n",
       "    .dataframe thead th {\n",
       "        text-align: right;\n",
       "    }\n",
       "</style>\n",
       "<table border=\"1\" class=\"dataframe\">\n",
       "  <thead>\n",
       "    <tr style=\"text-align: right;\">\n",
       "      <th></th>\n",
       "      <th>Missing Ratio</th>\n",
       "    </tr>\n",
       "  </thead>\n",
       "  <tbody>\n",
       "    <tr>\n",
       "      <th>Credit_History</th>\n",
       "      <td>8.053007</td>\n",
       "    </tr>\n",
       "    <tr>\n",
       "      <th>Self_Employed</th>\n",
       "      <td>5.606524</td>\n",
       "    </tr>\n",
       "    <tr>\n",
       "      <th>LoanAmount</th>\n",
       "      <td>2.752294</td>\n",
       "    </tr>\n",
       "    <tr>\n",
       "      <th>Dependents</th>\n",
       "      <td>2.548420</td>\n",
       "    </tr>\n",
       "    <tr>\n",
       "      <th>Gender</th>\n",
       "      <td>2.446483</td>\n",
       "    </tr>\n",
       "    <tr>\n",
       "      <th>Loan_Amount_Term</th>\n",
       "      <td>2.038736</td>\n",
       "    </tr>\n",
       "    <tr>\n",
       "      <th>Married</th>\n",
       "      <td>0.305810</td>\n",
       "    </tr>\n",
       "  </tbody>\n",
       "</table>\n",
       "</div>"
      ],
      "text/plain": [
       "                  Missing Ratio\n",
       "Credit_History         8.053007\n",
       "Self_Employed          5.606524\n",
       "LoanAmount             2.752294\n",
       "Dependents             2.548420\n",
       "Gender                 2.446483\n",
       "Loan_Amount_Term       2.038736\n",
       "Married                0.305810"
      ]
     },
     "execution_count": 17,
     "metadata": {},
     "output_type": "execute_result"
    }
   ],
   "source": [
    "df_missing = ((df_all.isnull().sum()) / len(df_all)) * 100\n",
    "df_missing = df_missing.drop(df_missing[df_missing == 0].index).sort_values(ascending=False)\n",
    "df_missing = pd.DataFrame({'Missing Ratio': df_missing})\n",
    "df_missing"
   ]
  },
  {
   "cell_type": "markdown",
   "metadata": {},
   "source": [
    "### 填補缺失值"
   ]
  },
  {
   "cell_type": "code",
   "execution_count": 18,
   "metadata": {},
   "outputs": [
    {
     "name": "stdout",
     "output_type": "stream",
     "text": [
      "<class 'pandas.core.frame.DataFrame'>\n",
      "RangeIndex: 981 entries, 0 to 980\n",
      "Data columns (total 12 columns):\n",
      "ApplicantIncome      981 non-null float64\n",
      "CoapplicantIncome    981 non-null float64\n",
      "Credit_History       981 non-null float64\n",
      "Dependents           981 non-null float64\n",
      "Education            981 non-null object\n",
      "Gender               981 non-null object\n",
      "LoanAmount           981 non-null float64\n",
      "Loan_Amount_Term     981 non-null float64\n",
      "Married              981 non-null object\n",
      "Property_Area        981 non-null object\n",
      "Self_Employed        981 non-null object\n",
      "all_Income           981 non-null float64\n",
      "dtypes: float64(7), object(5)\n",
      "memory usage: 92.0+ KB\n"
     ]
    }
   ],
   "source": [
    "# 1. credit_history \n",
    "# 透過信用紀錄與核貸結果的關係,發現信用紀錄有較大的影響核貸程度,所以從嚴認定。\n",
    "df_all['Credit_History'] = df_all['Credit_History'].fillna(0)\n",
    "\n",
    "# 2. Self_Employed\n",
    "df_all[\"Self_Employed\"] = df_all['Self_Employed'].fillna(df_all['Self_Employed'].mode()[0])\n",
    "\n",
    "#3. Gender\n",
    "df_all['Gender'] = df_all['Gender'].fillna(df_all['Gender'].mode()[0])\n",
    "\n",
    "# 4.Married\n",
    "df_all['Married'] = df_all['Married'].fillna(df_all['Married'].mode()[0])\n",
    "\n",
    "# 5.Loan_Amount_Term\n",
    "df_all[\"Loan_Amount_Term\"] = df_all['Loan_Amount_Term'].fillna(df_all['Loan_Amount_Term'].mode()[0])\n",
    "\n",
    "# 6. LoanAmount \n",
    "# 透過Self_Employed、edu取LoanAmount平均值\n",
    "LA = pd.pivot_table(df_all, values=['LoanAmount'], index=['Self_Employed', 'Education'], aggfunc=np.mean)\n",
    "for i, j in df_all.loc[df_all['LoanAmount'].isnull(),:].iterrows():\n",
    "    k = list([j['Self_Employed'], j['Education']])\n",
    "    df_all.loc[i, 'LoanAmount'] = LA.loc[k].values[0]\n",
    "\n",
    "# 7. Dependents\n",
    "df_all['Dependents'] = df_all['Dependents'].replace('3+', 3)\n",
    "df_all['Dependents'] = df_all['Dependents'].astype('float')\n",
    "Dp = pd.pivot_table(df_all, values=['Dependents'], index=['Married'], aggfunc=np.median)\n",
    "for i, j in df_all.loc[df_all['Dependents'].isnull(),:].iterrows():\n",
    "    k = list([j['Married']])\n",
    "    df_all.loc[i, 'Dependents'] = Dp.loc[k].values[0]\n",
    "\n",
    "# 查看是否還有缺失值\n",
    "df_all.info()"
   ]
  },
  {
   "cell_type": "code",
   "execution_count": 19,
   "metadata": {},
   "outputs": [
    {
     "data": {
      "text/plain": [
       "(981, 12)"
      ]
     },
     "execution_count": 19,
     "metadata": {},
     "output_type": "execute_result"
    }
   ],
   "source": [
    "# 將字串用數值代替\n",
    "# Gender\n",
    "df_all['Gender'] = df_all['Gender'].map({'Male':0, 'Female':1})\n",
    "# Married\n",
    "df_all['Married'] = df_all['Married'].map({'No':0, 'Yes':1})\n",
    "# Edu\n",
    "df_all['Education'] = df_all['Education'].map({'Graduate':1, 'Not Graduate':0})\n",
    "# Self_Employed\n",
    "df_all['Self_Employed'] = df_all['Self_Employed'].map({'No':0, \"Yes\":1})\n",
    "#Property_area\n",
    "df_all['Property_Area'] = df_all[\"Property_Area\"].map({'Urban':0, 'Rural':1, \"Semiurban\":2})\n",
    "\n",
    "# Loan_status\n",
    "train[\"Loan_Status\"] = train['Loan_Status'].map({\"N\":0, \"Y\":1})\n",
    "df_all.shape"
   ]
  },
  {
   "cell_type": "code",
   "execution_count": 20,
   "metadata": {},
   "outputs": [
    {
     "data": {
      "text/plain": [
       "(981, 15)"
      ]
     },
     "execution_count": 20,
     "metadata": {},
     "output_type": "execute_result"
    }
   ],
   "source": [
    "# 房屋地區使用獨熱編碼\n",
    "PA_onehot = pd.get_dummies(df_all['Property_Area'], prefix='Property_Area')\n",
    "# print(PA_onehot.shape)\n",
    "\n",
    "# 將df_all與房屋地區的獨熱合併\n",
    "df_all = df_all.join(PA_onehot, how='right')\n",
    "\n",
    "df_all.shape"
   ]
  },
  {
   "cell_type": "code",
   "execution_count": 21,
   "metadata": {},
   "outputs": [],
   "source": [
    "# 拆分訓練集跟測試集\n",
    "df_train = df_all[:614]\n",
    "df_test = df_all[614:]\n",
    "Y = train['Loan_Status']"
   ]
  },
  {
   "cell_type": "markdown",
   "metadata": {},
   "source": [
    "### 設置模型"
   ]
  },
  {
   "cell_type": "code",
   "execution_count": 22,
   "metadata": {},
   "outputs": [
    {
     "name": "stderr",
     "output_type": "stream",
     "text": [
      "/usr/local/lib/python3.5/dist-packages/xgboost/__init__.py:29: FutureWarning: Python 3.5 support is deprecated; XGBoost will require Python 3.6+ in the near future. Consider upgrading to Python 3.6+.\n",
      "  FutureWarning)\n"
     ]
    }
   ],
   "source": [
    "from sklearn.model_selection import cross_val_score, StratifiedKFold, GridSearchCV\n",
    "import sklearn.tree as st\n",
    "import sklearn.metrics as sm\n",
    "import sklearn.ensemble as se\n",
    "import sklearn.preprocessing as sp\n",
    "from sklearn.linear_model import LogisticRegressionCV\n",
    "import lightgbm as lgb\n",
    "import xgboost as xgb"
   ]
  },
  {
   "cell_type": "code",
   "execution_count": 23,
   "metadata": {},
   "outputs": [],
   "source": [
    "kf = StratifiedKFold(5, shuffle=True, random_state=42).get_n_splits(df_train.values)\n",
    "scores = {}"
   ]
  },
  {
   "cell_type": "markdown",
   "metadata": {},
   "source": [
    "### RandomForest"
   ]
  },
  {
   "cell_type": "code",
   "execution_count": 24,
   "metadata": {},
   "outputs": [
    {
     "name": "stdout",
     "output_type": "stream",
     "text": [
      "RandomForest score: 0.7606\n"
     ]
    }
   ],
   "source": [
    "# RandomForest\n",
    "RF = se.RandomForestClassifier(n_estimators=450,\n",
    "                              max_depth=8,\n",
    "                              min_samples_split=2,\n",
    "                              min_samples_leaf=3,\n",
    "                              max_features='auto',\n",
    "                              random_state=42,\n",
    "                              oob_score=True)\n",
    "\n",
    "# score = cross_val_score(RF, df_train, Y, cv=kf)\n",
    "# print(\"RandomForest score: %5f\" % score.mean()) # 0.757350\n",
    "\n",
    "# 調參\n",
    "# 1. 調整min_sample_split & min_samples_leaf\n",
    "# parameters = {'min_samples_split':range(2, 12), 'min_samples_leaf':range(2, 12)}\n",
    "# gsearch = GridSearchCV(RF, parameters)\n",
    "# gsearch.fit(df_train, Y)\n",
    "# print(gsearch.best_params_) # {'min_samples_leaf': 3, 'min_samples_split': 2}\n",
    "# print(gsearch.best_score_) # 0.765480474476876\n",
    "\n",
    "# 2. 調整max_depth\n",
    "# parameters = {'max_depth':range(1, 10),}\n",
    "# gsearch = GridSearchCV(RF, parameters)\n",
    "# gsearch.fit(df_train, Y)\n",
    "# print(gsearch.best_params_) # {'max_depth': 8}\n",
    "# print(gsearch.best_score_) # 0.7654938024790084\n",
    "\n",
    "# 3. 調整n_estimators\n",
    "# parameters = {'n_estimators':range(100, 500, 50),}\n",
    "# gsearch = GridSearchCV(RF, parameters)\n",
    "# gsearch.fit(df_train, Y)\n",
    "# print(gsearch.best_params_) # {'n_estimators': 450}\n",
    "# print(gsearch.best_score_) # 0.7671331467413035\n",
    "\n",
    "score = cross_val_score(RF, df_train, Y, cv=kf)\n",
    "scores['RandomForest'] = (score.mean())\n",
    "print(\"RandomForest score: {:.4f}\".format(score.mean()))"
   ]
  },
  {
   "cell_type": "markdown",
   "metadata": {},
   "source": [
    "### Light Gradient Boosting Classifier"
   ]
  },
  {
   "cell_type": "code",
   "execution_count": 25,
   "metadata": {},
   "outputs": [
    {
     "name": "stdout",
     "output_type": "stream",
     "text": [
      "Lightgbm score: 0.7704\n"
     ]
    }
   ],
   "source": [
    "lightgbm = lgb.LGBMClassifier(num_leaves=10,\n",
    "\t\t\t\t\t\t\t  max_depth=1,\n",
    "\t\t\t\t\t\t\t  learning_rate=0.01, \n",
    "\t\t\t\t\t\t\t  n_estimators=100,\n",
    "\t\t\t\t\t\t\t  objective='binary',\n",
    "\t\t\t\t\t\t\t  min_sum_hessian_in_leaf=0.001,\n",
    "\t\t\t\t\t\t\t  min_data_in_leaf=19,\n",
    "\t\t\t\t\t\t\t  bagging_fraction=0.2,\n",
    "\t\t\t\t\t\t\t  bagging_freg=5,\n",
    "\t\t\t\t\t\t\t  bagging_seed=9,\n",
    "\t\t\t\t\t\t\t  featue_fraction=0.2,\n",
    "\t\t\t\t\t\t\t  feature_fraction_seed=6,\n",
    "\t\t\t\t\t\t\t  verbose=-1,\n",
    "\t\t\t\t\t\t\t  random_state=42\n",
    "\t\t\t\t\t\t\t  )\n",
    "\n",
    "# score = cross_val_score(lightgbm, df_train, Y, cv=kf)\n",
    "# print(\"Lightgbm score: %5f\" % score.mean()) # Lightgbm score: 0.767133\n",
    "\n",
    "# 調整參數\n",
    "# 1. 調整max_depth & num_leaves\n",
    "# parameters = {'max_depth':range(1,11), 'num_leaves':range(10, 100, 10)}\n",
    "# gsearch = GridSearchCV(lightgbm, parameters)\n",
    "# gsearch.fit(df_train, Y)\n",
    "# print(gsearch.best_params_) # {'num_leaves': 10, 'max_depth': 1}\n",
    "# print(gsearch.best_score_) # 0.7671331467413035\n",
    "\n",
    "# 2. 調整min_sum_hessian_in_leaf & min_data_in_leaf\n",
    "# parameters = {'min_data_in_leaf':range(1, 40), 'min_sum_hessian_in_leaf':np.arange(0.001, 0.010, 0.001)}\n",
    "# gsearch = GridSearchCV(lightgbm, parameters)\n",
    "# gsearch.fit(df_train, Y)\n",
    "# print(gsearch.best_params_) # {'min_sum_hessian_in_leaf': 0.001, 'min_data_in_leaf': 19}\n",
    "# print(gsearch.best_score_) # 0.7671331467413035\n",
    "\n",
    "# 3. 調整feature_fraction & feature_fraction_seed\n",
    "# parameters = {'feature_fraction':np.arange(0.1, 1, 0.1), 'feature_fraction_seed':np.arange(1, 20)}\n",
    "# gsearch = GridSearchCV(lightgbm, parameters)\n",
    "# gsearch.fit(df_train, Y)\n",
    "# print(gsearch.best_params_) # {'feature_fraction': 0.2, 'feature_fraction_seed': 6}\n",
    "# print(gsearch.best_score_) # 0.7736372117819539\n",
    "\n",
    "#4. 調整bagging_fraction & bagging_freq & bagging_seed\n",
    "# parameters = {'bagging_fraction':np.arange(0.1, 1.1, 0.1), 'bagging_seed':np.arange(1, 20), 'bagging_freq':np.arange(1, 10)}\n",
    "# gsearch = GridSearchCV(lightgbm, parameters)\n",
    "# gsearch.fit(df_train, Y)\n",
    "# print(gsearch.best_params_) # {'bagging_fraction': 0.2, 'bagging_freq': 5, 'bagging_seed': 9}\n",
    "# print(gsearch.best_score_) # 0.7736505397840864\n",
    "\n",
    "# 5. 調整n_estimators\n",
    "# parameters = {'n_estimators':np.arange(100, 550, 50)}\n",
    "# gsearch = GridSearchCV(lightgbm, parameters, cv=5)\n",
    "# gsearch.fit(df_train, Y)\n",
    "# print(gsearch.best_params_) # {'n_estimators': 100}\n",
    "# print(gsearch.best_score_) # 0.7671331467413035\n",
    "\n",
    "# 6. 調整learning rate\n",
    "# parameters = {'learning_rate':[0.01, 0.05, 0.07, 0.1, 0.2]}\n",
    "# gsearch = GridSearchCV(lightgbm, parameters, cv=5)\n",
    "# gsearch.fit(df_train, Y)\n",
    "# print(gsearch.best_params_) # {'learning_rate': 0.01}\n",
    "# print(gsearch.best_score_) # 0.7703985072637611\n",
    "\n",
    "score = cross_val_score(lightgbm, df_train, Y, cv=kf)\n",
    "scores['Lightgbm'] = (score.mean())\n",
    "print(\"Lightgbm score: {:.4f}\".format(score.mean()))"
   ]
  },
  {
   "cell_type": "markdown",
   "metadata": {},
   "source": [
    "### Decision Tree"
   ]
  },
  {
   "cell_type": "code",
   "execution_count": 26,
   "metadata": {},
   "outputs": [
    {
     "name": "stdout",
     "output_type": "stream",
     "text": [
      "DecisionTree score: 0.7427\n"
     ]
    }
   ],
   "source": [
    "DT = st.DecisionTreeClassifier(max_depth=7,\n",
    "\t\t\t\t\t\t\t   min_samples_split=2,\n",
    "\t\t\t\t\t\t\t   min_samples_leaf=6,\n",
    "\t\t\t\t\t\t\t   max_features='auto',\n",
    "\t\t\t\t\t\t\t   random_state=30,\n",
    "\t\t\t\t\t\t\t   )\n",
    "# score = cross_val_score(DT, df_train, Y, cv=kf)\n",
    "# print(\"DecisionTree score: %5f\" % score.mean()) # DecisionTree score: 0.703599\n",
    "\n",
    "# 調整參數\n",
    "# 1. 調整min_sample_split & min_samples_leaf\n",
    "# parameters = {'min_samples_split':range(2, 12), 'min_samples_leaf':range(2, 12)}\n",
    "# gsearch = GridSearchCV(DT, parameters, cv=kf)\n",
    "# gsearch.fit(df_train, Y)\n",
    "# print(gsearch.best_params_) # {'min_samples_leaf': 6, 'min_samples_split': 2}\n",
    "# print(gsearch.best_score_) # 0.718286018925763\n",
    "\n",
    "# 2. 調整max_depth\n",
    "# parameters = {'max_depth':range(7,20)}\n",
    "# gsearch = GridSearchCV(DT, parameters, cv=kf)\n",
    "# gsearch.fit(df_train, Y)\n",
    "# print(gsearch.best_params_) # {'max_depth': 7}\n",
    "# print(gsearch.best_score_) # 0.718286018925763\n",
    "\n",
    "# 3. 調整隨機種機\n",
    "# parameters = {'random_state':range(30,60,5)}\n",
    "# gsearch = GridSearchCV(DT, parameters, cv=kf)\n",
    "# gsearch.fit(df_train, Y)\n",
    "# print(gsearch.best_params_) # {'random_state': 30}\n",
    "# print(gsearch.best_score_) #0.7279888044782087\n",
    "\n",
    "score = cross_val_score(DT, df_train, Y, cv=kf)\n",
    "scores['DecisionTree'] = (score.mean())\n",
    "print(\"DecisionTree score: {:.4f}\".format(score.mean()))"
   ]
  },
  {
   "cell_type": "markdown",
   "metadata": {},
   "source": [
    "### XGBoost"
   ]
  },
  {
   "cell_type": "code",
   "execution_count": 27,
   "metadata": {},
   "outputs": [
    {
     "name": "stdout",
     "output_type": "stream",
     "text": [
      "XGBoost score: 0.7623\n"
     ]
    }
   ],
   "source": [
    "xgbc = xgb.XGBClassifier(max_depth=5,\n",
    "\t\t\t\t\t\tn_estimators=163,\n",
    "\t\t\t\t\t\tlearning_rate=0.1,\n",
    "\t\t\t\t\t\tgamma=0.3,\n",
    "\t\t\t\t\t\tmin_child_weight=13,\n",
    "\t\t\t\t\t\tsubsample=0.5,\n",
    "\t\t\t\t\t\tcolsample_bytree=0.9,\n",
    "\t\t\t\t\t\talpha=0.05,\n",
    "\t\t\t\t\t\treg_lambda=3)\n",
    "\n",
    "# score = cross_val_score(xgbc, df_train, Y, cv=kf)\n",
    "# print(\"XGBoost score: %5f\" % score.mean()) # XGBoost score: 0.710129\n",
    "\n",
    "# 調整參數\n",
    "# 1. 調整n_estimators\n",
    "# parameters = {'n_estimators':np.arange(160, 170)}\n",
    "# gsearch = GridSearchCV(xgbc, parameters, cv=kf)\n",
    "# gsearch.fit(df_train, Y)\n",
    "# print(gsearch.best_params_) # {'n_estimators': 163}\n",
    "# print(gsearch.best_score_) # 0.7231507397041184\n",
    "\n",
    "# 2. 調整min_child_weight & max_depth\n",
    "# parameters = {'min_child_weight':range(1, 20, 2), 'max_depth':range(5, 16, 2)}\n",
    "# gsearch = GridSearchCV(xgbc, parameters, cv=kf)\n",
    "# gsearch.fit(df_train, Y)\n",
    "# print(gsearch.best_params_) # {'max_depth': 5, 'min_child_weight': 13}\n",
    "# print(gsearch.best_score_) # 0.7638677862188458\n",
    "\n",
    "# 3. 調整gamma\n",
    "# parameters = {'gamma':np.arange(0.1, 1.0, 0.1)}\n",
    "# gsearch = GridSearchCV(xgbc, parameters, cv=kf)\n",
    "# gsearch.fit(df_train, Y)\n",
    "# print(gsearch.best_params_) # {'gamma': 0.30000000000000004}\n",
    "# print(gsearch.best_score_) # 0.7655071304811409\n",
    "\n",
    "# 4. 調整subsample & colsample_bytree\n",
    "# parameters = {'subsample':np.arange(0.1, 1.0, 0.1), 'colsample_bytree':np.arange(0.1, 1.0, 0.1)}\n",
    "# gsearch = GridSearchCV(xgbc, parameters, cv=kf)\n",
    "# gsearch.fit(df_train, Y)\n",
    "# print(gsearch.best_params_) # {'subsample': 0.5, 'colsample_bytree': 0.9}\n",
    "# print(gsearch.best_score_) # 0.7671331467413035\n",
    "\n",
    "# 5. 調整alpha及reg_lambda\n",
    "# parameters = {'alpha':[0.05, 0.1, 1, 2, 3], 'reg_lambda':[0.05, 0.1, 1, 2 ,3]}\n",
    "# gsearch = GridSearchCV(xgbc, parameters, cv=kf)\n",
    "# gsearch.fit(df_train, Y)\n",
    "# print(gsearch.best_params_) # {'reg_lambda': 3, 'alpha': 0.05}\n",
    "# print(gsearch.best_score_) # 0.7703851792616287\n",
    "\n",
    "# 6. 調整learning rate\n",
    "# parameters = {'learning_rate':[0.01, 0.05, 0.07, 0.1, 0.2]}\n",
    "# gsearch = GridSearchCV(xgbc, parameters, cv=kf)\n",
    "# gsearch.fit(df_train, Y)\n",
    "# print(gsearch.best_params_) # {'learning_rate': 0.1}\n",
    "# print(gsearch.best_score_) # 0.7703851792616287\n",
    "\n",
    "score = cross_val_score(xgbc, df_train, Y, cv=kf)\n",
    "scores['XGBoost'] = (score.mean())\n",
    "print(\"XGBoost score: {:.4f}\".format(score.mean()))"
   ]
  },
  {
   "cell_type": "markdown",
   "metadata": {},
   "source": [
    "### 堆疊模型"
   ]
  },
  {
   "cell_type": "code",
   "execution_count": 28,
   "metadata": {},
   "outputs": [
    {
     "name": "stdout",
     "output_type": "stream",
     "text": [
      "StackingClassifier score: 0.7460\n"
     ]
    }
   ],
   "source": [
    "from mlxtend.classifier import StackingClassifier\n",
    "stack_all = StackingClassifier(classifiers=[lightgbm, RF, DT, xgbc],\n",
    "\t\t\t\t\t\t\t   meta_classifier=xgbc)\n",
    "score = cross_val_score(stack_all, df_train, Y, cv=kf)\n",
    "scores['StackingClassifier'] = (score.mean())\n",
    "print(\"StackingClassifier score: {:.4f}\".format(score.mean()))"
   ]
  },
  {
   "cell_type": "code",
   "execution_count": 29,
   "metadata": {},
   "outputs": [
    {
     "data": {
      "image/png": "[encoded data removed]",
      "text/plain": [
       "<Figure size 1728x864 with 1 Axes>"
      ]
     },
     "metadata": {},
     "output_type": "display_data"
    },
    {
     "data": {
      "text/html": [
       "<style  type=\"text/css\" >\n",
       "    #T_bc6f9f84_b5f4_11ea_81a1_080027a2b094row1_col0 {\n",
       "            background-color:  yellow;\n",
       "        }</style><table id=\"T_bc6f9f84_b5f4_11ea_81a1_080027a2b094\" ><thead>    <tr>        <th class=\"blank level0\" ></th>        <th class=\"col_heading level0 col0\" >score</th>    </tr></thead><tbody>\n",
       "                <tr>\n",
       "                        <th id=\"T_bc6f9f84_b5f4_11ea_81a1_080027a2b094level0_row0\" class=\"row_heading level0 row0\" >DecisionTree</th>\n",
       "                        <td id=\"T_bc6f9f84_b5f4_11ea_81a1_080027a2b094row0_col0\" class=\"data row0 col0\" >0.7427</td>\n",
       "            </tr>\n",
       "            <tr>\n",
       "                        <th id=\"T_bc6f9f84_b5f4_11ea_81a1_080027a2b094level0_row1\" class=\"row_heading level0 row1\" >Lightgbm</th>\n",
       "                        <td id=\"T_bc6f9f84_b5f4_11ea_81a1_080027a2b094row1_col0\" class=\"data row1 col0\" >0.7704</td>\n",
       "            </tr>\n",
       "            <tr>\n",
       "                        <th id=\"T_bc6f9f84_b5f4_11ea_81a1_080027a2b094level0_row2\" class=\"row_heading level0 row2\" >RandomForest</th>\n",
       "                        <td id=\"T_bc6f9f84_b5f4_11ea_81a1_080027a2b094row2_col0\" class=\"data row2 col0\" >0.7606</td>\n",
       "            </tr>\n",
       "            <tr>\n",
       "                        <th id=\"T_bc6f9f84_b5f4_11ea_81a1_080027a2b094level0_row3\" class=\"row_heading level0 row3\" >StackingClassifier</th>\n",
       "                        <td id=\"T_bc6f9f84_b5f4_11ea_81a1_080027a2b094row3_col0\" class=\"data row3 col0\" >0.7460</td>\n",
       "            </tr>\n",
       "            <tr>\n",
       "                        <th id=\"T_bc6f9f84_b5f4_11ea_81a1_080027a2b094level0_row4\" class=\"row_heading level0 row4\" >XGBoost</th>\n",
       "                        <td id=\"T_bc6f9f84_b5f4_11ea_81a1_080027a2b094row4_col0\" class=\"data row4 col0\" >0.7623</td>\n",
       "            </tr>\n",
       "    </tbody></table>"
      ],
      "text/plain": [
       "<pandas.io.formats.style.Styler at 0x7f1cd9403518>"
      ]
     },
     "execution_count": 29,
     "metadata": {},
     "output_type": "execute_result"
    }
   ],
   "source": [
    "sns.set_style('white')\n",
    "fig = mp.figure(figsize=(24, 12))\n",
    "sns.pointplot(x=list(scores.keys()), y=[score for score in scores.values()], \\\n",
    "              markers=['o'], linestyle=['-'])\n",
    "mp.ylabel('Score(mean)', size=20)\n",
    "mp.tick_params(axis='y', labelsize=15)\n",
    "mp.xlabel('Model', size=20)\n",
    "mp.tick_params(axis='x', labelsize=15)\n",
    "mp.title('Score of Model', size=20)\n",
    "mp.show()\n",
    "\n",
    "model_score = pd.DataFrame(scores, index=['score']).T\n",
    "model_score.style\\\n",
    "           .format('{:.4f}', subset='score')\\\n",
    "           .highlight_max('score')\n"
   ]
  },
  {
   "cell_type": "markdown",
   "metadata": {},
   "source": [
    "#### 透過圖表及表格可得知Lightgbm效果最好"
   ]
  },
  {
   "cell_type": "markdown",
   "metadata": {},
   "source": [
    "### 預測結果"
   ]
  },
  {
   "cell_type": "code",
   "execution_count": 44,
   "metadata": {},
   "outputs": [
    {
     "data": {
      "text/html": [
       "<div>\n",
       "<style scoped>\n",
       "    .dataframe tbody tr th:only-of-type {\n",
       "        vertical-align: middle;\n",
       "    }\n",
       "\n",
       "    .dataframe tbody tr th {\n",
       "        vertical-align: top;\n",
       "    }\n",
       "\n",
       "    .dataframe thead th {\n",
       "        text-align: right;\n",
       "    }\n",
       "</style>\n",
       "<table border=\"1\" class=\"dataframe\">\n",
       "  <thead>\n",
       "    <tr style=\"text-align: right;\">\n",
       "      <th></th>\n",
       "      <th>Loan_Status</th>\n",
       "    </tr>\n",
       "    <tr>\n",
       "      <th>Loan_ID</th>\n",
       "      <th></th>\n",
       "    </tr>\n",
       "  </thead>\n",
       "  <tbody>\n",
       "    <tr>\n",
       "      <th>LP001015</th>\n",
       "      <td>Y</td>\n",
       "    </tr>\n",
       "    <tr>\n",
       "      <th>LP001022</th>\n",
       "      <td>Y</td>\n",
       "    </tr>\n",
       "    <tr>\n",
       "      <th>LP001031</th>\n",
       "      <td>Y</td>\n",
       "    </tr>\n",
       "    <tr>\n",
       "      <th>LP001035</th>\n",
       "      <td>N</td>\n",
       "    </tr>\n",
       "    <tr>\n",
       "      <th>LP001051</th>\n",
       "      <td>Y</td>\n",
       "    </tr>\n",
       "  </tbody>\n",
       "</table>\n",
       "</div>"
      ],
      "text/plain": [
       "         Loan_Status\n",
       "Loan_ID             \n",
       "LP001015           Y\n",
       "LP001022           Y\n",
       "LP001031           Y\n",
       "LP001035           N\n",
       "LP001051           Y"
      ]
     },
     "execution_count": 44,
     "metadata": {},
     "output_type": "execute_result"
    }
   ],
   "source": [
    "model_xgbc = xgbc.fit(df_train, Y)\n",
    "test_pred_y = model_xgbc.predict(df_test)\n",
    "\n",
    "target = pd.DataFrame(test_pred_y, columns=['Loan_Status'])\n",
    "target['Loan_Status'] = target['Loan_Status'].map({0:'N', 1:'Y'})\n",
    "\n",
    "Id = pd.read_csv('test.csv')\n",
    "Id = pd.DataFrame(Id['Loan_ID'])\n",
    "\n",
    "sub = Id.join(target).set_index('Loan_ID')\n",
    "sub.to_csv('sub4.csv')\n",
    "sub.head()"
   ]
  },
  {
   "cell_type": "markdown",
   "metadata": {},
   "source": [
    "#### 最終結果分數為76.38"
   ]
  }
 ],
 "metadata": {
  "kernelspec": {
   "display_name": "Python 3",
   "language": "python",
   "name": "python3"
  },
  "language_info": {
   "codemirror_mode": {
    "name": "ipython",
    "version": 3
   },
   "file_extension": ".py",
   "mimetype": "text/x-python",
   "name": "python",
   "nbconvert_exporter": "python",
   "pygments_lexer": "ipython3",
   "version": "3.5.2"
  }
 },
 "nbformat": 4,
 "nbformat_minor": 2
}
